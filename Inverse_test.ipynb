{
 "cells": [
  {
   "cell_type": "code",
   "execution_count": 21,
   "metadata": {},
   "outputs": [],
   "source": [
    "import math"
   ]
  },
  {
   "cell_type": "code",
   "execution_count": 22,
   "metadata": {},
   "outputs": [],
   "source": [
    "parameters = [0, 0, 0, 0, 0, 0, 0, 0, 0, 0, 0, 0, 0, 0, 0, 0, 0, 0, 0, 0, 0]"
   ]
  },
  {
   "cell_type": "code",
   "execution_count": 23,
   "metadata": {},
   "outputs": [],
   "source": [
    "x = 0\n",
    "y = 0\n",
    "z = -500"
   ]
  },
  {
   "cell_type": "code",
   "execution_count": 24,
   "metadata": {},
   "outputs": [],
   "source": [
    "landa_1 = 1*(math.pi/6) + parameters[0]\n",
    "landa_2 = 5*(math.pi/6) + parameters[1]\n",
    "landa_3 = 9*(math.pi/6) + parameters[2]\n",
    "\n",
    "beta_1 = 1*(math.pi/6) + parameters[3]\n",
    "beta_2 = 5*(math.pi/6) + parameters[4]\n",
    "beta_3 = 9*(math.pi/6) + parameters[5]\n",
    "\n",
    "L1_1 = 308.95 + parameters[6]\n",
    "L1_2 = 308.95 + parameters[7]\n",
    "L1_3 = 308.95 + parameters[8]\n",
    "\n",
    "L2_1 = 595 + parameters[9]\n",
    "L2_2 = 595 + parameters[10]\n",
    "L2_3 = 595 + parameters[11]\n",
    "\n",
    "R_1 = 140 + parameters[12]\n",
    "R_2 = 140 + parameters[13]\n",
    "R_3 = 140 + parameters[14]\n",
    "\n",
    "r_1 = 100 + parameters[15]\n",
    "r_2 = 100 + parameters[16]\n",
    "r_3 = 100 + parameters[17]"
   ]
  },
  {
   "cell_type": "code",
   "execution_count": 25,
   "metadata": {},
   "outputs": [],
   "source": [
    "A_1 = -2*L1_1*r_1*math.sin(beta_1)*math.sin(landa_1) -2*L1_1*r_1*math.cos(beta_1)*math.cos(landa_1) -2*L1_1*x*math.cos(landa_1) -2*L1_1*y*math.sin(landa_1) +2*L1_1*R_1\n",
    "B_1 = +2*L1_1*z\n",
    "D_1 = x**2 + y**2 + z**2 + L1_1**2 - L2_1**2 + R_1**2 + r_1**2 -2*R_1*r_1*math.sin(beta_1)*math.sin(landa_1) -2*R_1*r_1*math.cos(beta_1)*math.cos(landa_1) +2*r_1*x*math.cos(beta_1) +2*r_1*y*math.sin(beta_1) -2*R_1*x*math.cos(landa_1) -2*R_1*y*math.sin(landa_1)\n",
    "\n",
    "A_2 = -2*L1_2*r_2*math.sin(beta_2)*math.sin(landa_2) -2*L1_2*r_2*math.cos(beta_2)*math.cos(landa_2) -2*L1_2*x*math.cos(landa_2) -2*L1_2*y*math.sin(landa_2) +2*L1_2*R_2\n",
    "B_2 = +2*L1_2*z\n",
    "D_2 = x**2 + y**2 + z**2 + L1_2**2 - L2_2**2 + R_2**2 + r_2**2 -2*R_2*r_2*math.sin(beta_2)*math.sin(landa_2) -2*R_2*r_2*math.cos(beta_2)*math.cos(landa_2) +2*r_2*x*math.cos(beta_2) +2*r_2*y*math.sin(beta_2) -2*R_2*x*math.cos(landa_2) -2*R_2*y*math.sin(landa_2)\n",
    "\n",
    "A_3 = -2*L1_3*r_3*math.sin(beta_3)*math.sin(landa_3) -2*L1_3*r_3*math.cos(beta_3)*math.cos(landa_3) -2*L1_3*x*math.cos(landa_3) -2*L1_3*y*math.sin(landa_3) +2*L1_3*R_3\n",
    "B_3 = +2*L1_3*z\n",
    "D_3 = x**2 + y**2 + z**2 + L1_3**2 - L2_3**2 + R_3**2 + r_3**2 -2*R_3*r_3*math.sin(beta_3)*math.sin(landa_3) -2*R_3*r_3*math.cos(beta_3)*math.cos(landa_3) +2*r_3*x*math.cos(beta_3) +2*r_3*y*math.sin(beta_3) -2*R_3*x*math.cos(landa_3) -2*R_3*y*math.sin(landa_3)"
   ]
  },
  {
   "cell_type": "code",
   "execution_count": 28,
   "metadata": {},
   "outputs": [],
   "source": [
    "theta_1 = (2*math.atan((-B_1-math.sqrt(B_1**2+A_1**2-D_1**2))/(D_1-A_1))) + parameters[18]\n",
    "theta_2 = (2*math.atan((-B_2-math.sqrt(B_2**2+A_2**2-D_2**2))/(D_2-A_2))) + parameters[19]\n",
    "theta_3 = (2*math.atan((-B_3-math.sqrt(B_3**2+A_3**2-D_3**2))/(D_3-A_3))) + parameters[20]"
   ]
  },
  {
   "cell_type": "code",
   "execution_count": 29,
   "metadata": {},
   "outputs": [
    {
     "name": "stdout",
     "output_type": "stream",
     "text": [
      "0.05732384756115858\n",
      "0.05732384756115858\n",
      "0.05732384756115858\n"
     ]
    }
   ],
   "source": [
    "print(theta_1)\n",
    "print(theta_2)\n",
    "print(theta_3)"
   ]
  }
 ],
 "metadata": {
  "kernelspec": {
   "display_name": "Python 3",
   "language": "python",
   "name": "python3"
  },
  "language_info": {
   "codemirror_mode": {
    "name": "ipython",
    "version": 3
   },
   "file_extension": ".py",
   "mimetype": "text/x-python",
   "name": "python",
   "nbconvert_exporter": "python",
   "pygments_lexer": "ipython3",
   "version": "3.8.9"
  }
 },
 "nbformat": 4,
 "nbformat_minor": 2
}
