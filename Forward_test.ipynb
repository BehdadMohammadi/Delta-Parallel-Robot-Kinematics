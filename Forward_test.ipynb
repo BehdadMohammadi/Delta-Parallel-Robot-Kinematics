{
 "cells": [
  {
   "cell_type": "code",
   "execution_count": 2,
   "metadata": {},
   "outputs": [],
   "source": [
    "import math"
   ]
  },
  {
   "cell_type": "code",
   "execution_count": 3,
   "metadata": {},
   "outputs": [],
   "source": [
    "parameters = [0, 0, 0, 0, 0, 0, 0, 0, 0, 0, 0, 0, 0, 0, 0, 0, 0, 0, 0, 0, 0]"
   ]
  },
  {
   "cell_type": "code",
   "execution_count": 5,
   "metadata": {},
   "outputs": [],
   "source": [
    "theta_1 = 1\n",
    "theta_2 = 1\n",
    "theta_3 = 1"
   ]
  },
  {
   "cell_type": "code",
   "execution_count": 8,
   "metadata": {},
   "outputs": [],
   "source": [
    "theta_1 = theta_1 + parameters[18]\n",
    "theta_2 = theta_2 + parameters[19]\n",
    "theta_3 = theta_3 + parameters[20]"
   ]
  },
  {
   "cell_type": "code",
   "execution_count": 11,
   "metadata": {},
   "outputs": [],
   "source": [
    "landa_1 = 1*(math.pi/6) + parameters[0]\n",
    "landa_2 = 5*(math.pi/6) + parameters[1]\n",
    "landa_3 = 9*(math.pi/6) + parameters[2]\n",
    "\n",
    "beta_1 = 1*(math.pi/6) + parameters[3]\n",
    "beta_2 = 5*(math.pi/6) + parameters[4]\n",
    "beta_3 = 9*(math.pi/6) + parameters[5]\n",
    "\n",
    "L1_1 = 308.95 + parameters[6]\n",
    "L1_2 = 308.95 + parameters[7]\n",
    "L1_3 = 308.95 + parameters[8]\n",
    "\n",
    "L2_1 = 595 + parameters[9]\n",
    "L2_2 = 595 + parameters[10]\n",
    "L2_3 = 595 + parameters[11]\n",
    "\n",
    "R_1 = 140 + parameters[12]\n",
    "R_2 = 140 + parameters[13]\n",
    "R_3 = 140 + parameters[14]\n",
    "\n",
    "r_1 = 100 + parameters[15]\n",
    "r_2 = 100 + parameters[16]\n",
    "r_3 = 100 + parameters[17]"
   ]
  },
  {
   "cell_type": "code",
   "execution_count": 14,
   "metadata": {},
   "outputs": [],
   "source": [
    "a_1 = 2*r_1*math.cos(beta_1)-2*(R_1+L1_1*math.cos(theta_1))*math.cos(landa_1)\n",
    "a_2 = 2*r_2*math.cos(beta_2)-2*(R_2+L1_2*math.cos(theta_2))*math.cos(landa_2)\n",
    "a_3 = 2*r_3*math.cos(beta_3)-2*(R_3+L1_3*math.cos(theta_3))*math.cos(landa_3)\n",
    "\n",
    "b_1 = 2*r_1*math.sin(beta_1)-2*(R_1+L1_1*math.cos(theta_1))*math.sin(landa_1)\n",
    "b_2 = 2*r_2*math.sin(beta_2)-2*(R_2+L1_2*math.cos(theta_2))*math.sin(landa_2)\n",
    "b_3 = 2*r_3*math.sin(beta_3)-2*(R_3+L1_3*math.cos(theta_3))*math.sin(landa_3)\n",
    "\n",
    "c_1 = 2*L1_1*math.sin(theta_1)\n",
    "c_2 = 2*L1_2*math.sin(theta_2)\n",
    "c_3 = 2*L1_3*math.sin(theta_3)\n",
    "\n",
    "d_1 = (R_1+L1_1*math.cos(theta_1))**2+r_1**2+(L1_1*math.sin(theta_1))**2-2*r_1*(R_1+L1_1*math.cos(theta_1))*math.cos(landa_1-beta_1)-L2_1**2\n",
    "d_2 = (R_2+L1_2*math.cos(theta_2))**2+r_2**2+(L1_2*math.sin(theta_2))**2-2*r_2*(R_2+L1_2*math.cos(theta_2))*math.cos(landa_2-beta_2)-L2_2**2\n",
    "d_3 = (R_3+L1_3*math.cos(theta_3))**2+r_3**2+(L1_3*math.sin(theta_3))**2-2*r_3*(R_3+L1_3*math.cos(theta_3))*math.cos(landa_3-beta_3)-L2_3**2\n",
    "\n",
    "A2 = a_1 - a_2\n",
    "A3 = a_1 - a_3\n",
    "\n",
    "B2 = b_1 - b_2\n",
    "B3 = b_1 - b_3\n",
    "\n",
    "C2 = c_1 - c_2\n",
    "C3 = c_1 - c_3\n",
    "\n",
    "D2 = d_1 - d_2\n",
    "D3 = d_1 - d_3\n",
    "\n",
    "m1 = (B2*C3-B3*C2)/(A2*B3-A3*B2)\n",
    "m2 = (A3*C2-A2*C3)/(A2*B3-A3*B2)\n",
    "\n",
    "n1 = (B2*D3-B3*D2)/(A2*B3-A3*B2)\n",
    "n2 = (A3*D2-A2*D3)/(A2*B3-A3*B2)"
   ]
  },
  {
   "cell_type": "code",
   "execution_count": 17,
   "metadata": {},
   "outputs": [],
   "source": [
    "Zp_1 = -(math.sqrt((a_3*m1+2*m1*n1+b_3*m2+2*m2*n2+c_3)**2-4*(m1**2+m2**2+1)*(n1**2+a_3*n1+n2**2+b_3*n2+d_3))+(a_3*m1+b_3*m2+2*m1*n1+2*m2*n2+c_3))/(2*m1**2+2*m2**2+2);\n",
    "Zp_2 = (math.sqrt((a_3*m1+2*m1*n1+b_3*m2+2*m2*n2+c_3)**2-4*(m1**2+m2**2+1)*(n1**2+a_3*n1+n2**2+b_3*n2+d_3))-(a_3*m1+b_3*m2+2*m1*n1+2*m2*n2+c_3))/(2*m1**2+2*m2**2+2);\n",
    "\n",
    "if Zp_1 <= 0:\n",
    "     Zp = Zp_1;\n",
    "else:\n",
    "    Zp = Zp_2;\n",
    "\n",
    "Xp = m1*Zp+n1;\n",
    "Yp = m2*Zp+n2;"
   ]
  },
  {
   "cell_type": "code",
   "execution_count": 19,
   "metadata": {},
   "outputs": [
    {
     "name": "stdout",
     "output_type": "stream",
     "text": [
      "0.0\n",
      "0.0\n",
      "-817.8312834525194\n"
     ]
    }
   ],
   "source": [
    "print(Xp)\n",
    "print(Yp)\n",
    "print(Zp)\n"
   ]
  }
 ],
 "metadata": {
  "kernelspec": {
   "display_name": "Python 3",
   "language": "python",
   "name": "python3"
  },
  "language_info": {
   "codemirror_mode": {
    "name": "ipython",
    "version": 3
   },
   "file_extension": ".py",
   "mimetype": "text/x-python",
   "name": "python",
   "nbconvert_exporter": "python",
   "pygments_lexer": "ipython3",
   "version": "3.8.9"
  }
 },
 "nbformat": 4,
 "nbformat_minor": 2
}
